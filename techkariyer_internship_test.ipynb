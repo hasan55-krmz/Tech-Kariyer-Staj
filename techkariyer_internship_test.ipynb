{
 "cells": [
  {
   "cell_type": "code",
   "execution_count": 6,
   "metadata": {},
   "outputs": [],
   "source": [
    "import pandas as pd\n",
    "import numpy as np\n",
    "import datetime as dt\n",
    "from datetime import datetime\n",
    "from operator import attrgetter"
   ]
  },
  {
   "cell_type": "code",
   "execution_count": 7,
   "metadata": {},
   "outputs": [],
   "source": [
    "import matplotlib.pyplot as plt\n",
    "import seaborn as sns"
   ]
  },
  {
   "cell_type": "code",
   "execution_count": 8,
   "metadata": {},
   "outputs": [],
   "source": [
    "import warnings\n",
    "warnings.filterwarnings(\"ignore\")\n"
   ]
  },
  {
   "cell_type": "markdown",
   "metadata": {},
   "source": [
    "# Verinin Okunması"
   ]
  },
  {
   "cell_type": "code",
   "execution_count": 9,
   "metadata": {},
   "outputs": [],
   "source": [
    "#Verinin Okunması\n",
    "df=pd.read_excel(\"TechKariyer.xlsx\")"
   ]
  },
  {
   "cell_type": "code",
   "execution_count": 10,
   "metadata": {},
   "outputs": [
    {
     "data": {
      "text/html": [
       "<div>\n",
       "<style scoped>\n",
       "    .dataframe tbody tr th:only-of-type {\n",
       "        vertical-align: middle;\n",
       "    }\n",
       "\n",
       "    .dataframe tbody tr th {\n",
       "        vertical-align: top;\n",
       "    }\n",
       "\n",
       "    .dataframe thead th {\n",
       "        text-align: right;\n",
       "    }\n",
       "</style>\n",
       "<table border=\"1\" class=\"dataframe\">\n",
       "  <thead>\n",
       "    <tr style=\"text-align: right;\">\n",
       "      <th></th>\n",
       "      <th>Login Dönemleri</th>\n",
       "      <th>Unnamed: 1</th>\n",
       "      <th>Unnamed: 2</th>\n",
       "      <th>Unnamed: 3</th>\n",
       "      <th>İlan Dönemleri</th>\n",
       "      <th>Unnamed: 5</th>\n",
       "      <th>Unnamed: 6</th>\n",
       "      <th>Unnamed: 7</th>\n",
       "      <th>Sözleşme Yenileme Dönemi</th>\n",
       "      <th>Unnamed: 9</th>\n",
       "    </tr>\n",
       "  </thead>\n",
       "  <tbody>\n",
       "    <tr>\n",
       "      <th>0</th>\n",
       "      <td>Login Dönemi</td>\n",
       "      <td>Firma Kodu</td>\n",
       "      <td>Login Adet</td>\n",
       "      <td>NaN</td>\n",
       "      <td>İlan Dönemi</td>\n",
       "      <td>Firma Kodu</td>\n",
       "      <td>İlan Adet</td>\n",
       "      <td>NaN</td>\n",
       "      <td>Firma Kodu</td>\n",
       "      <td>Yenileme Dönemi</td>\n",
       "    </tr>\n",
       "    <tr>\n",
       "      <th>1</th>\n",
       "      <td>201908</td>\n",
       "      <td>207104</td>\n",
       "      <td>2</td>\n",
       "      <td>NaN</td>\n",
       "      <td>201907</td>\n",
       "      <td>9306</td>\n",
       "      <td>3</td>\n",
       "      <td>NaN</td>\n",
       "      <td>100152</td>\n",
       "      <td>202006</td>\n",
       "    </tr>\n",
       "    <tr>\n",
       "      <th>2</th>\n",
       "      <td>201910</td>\n",
       "      <td>32850</td>\n",
       "      <td>1</td>\n",
       "      <td>NaN</td>\n",
       "      <td>201904</td>\n",
       "      <td>11220</td>\n",
       "      <td>1</td>\n",
       "      <td>NaN</td>\n",
       "      <td>100188</td>\n",
       "      <td>202005</td>\n",
       "    </tr>\n",
       "    <tr>\n",
       "      <th>3</th>\n",
       "      <td>202002</td>\n",
       "      <td>211761</td>\n",
       "      <td>2</td>\n",
       "      <td>NaN</td>\n",
       "      <td>202002</td>\n",
       "      <td>13559</td>\n",
       "      <td>1</td>\n",
       "      <td>NaN</td>\n",
       "      <td>1102</td>\n",
       "      <td>202007</td>\n",
       "    </tr>\n",
       "    <tr>\n",
       "      <th>4</th>\n",
       "      <td>201912</td>\n",
       "      <td>107276</td>\n",
       "      <td>3</td>\n",
       "      <td>NaN</td>\n",
       "      <td>201903</td>\n",
       "      <td>192033</td>\n",
       "      <td>1</td>\n",
       "      <td>NaN</td>\n",
       "      <td>10127</td>\n",
       "      <td>202006</td>\n",
       "    </tr>\n",
       "  </tbody>\n",
       "</table>\n",
       "</div>"
      ],
      "text/plain": [
       "  Login Dönemleri  Unnamed: 1  Unnamed: 2  Unnamed: 3 İlan Dönemleri  \\\n",
       "0    Login Dönemi  Firma Kodu  Login Adet         NaN    İlan Dönemi   \n",
       "1          201908      207104           2         NaN         201907   \n",
       "2          201910       32850           1         NaN         201904   \n",
       "3          202002      211761           2         NaN         202002   \n",
       "4          201912      107276           3         NaN         201903   \n",
       "\n",
       "   Unnamed: 5 Unnamed: 6  Unnamed: 7 Sözleşme Yenileme Dönemi       Unnamed: 9  \n",
       "0  Firma Kodu  İlan Adet         NaN               Firma Kodu  Yenileme Dönemi  \n",
       "1        9306          3         NaN                   100152           202006  \n",
       "2       11220          1         NaN                   100188           202005  \n",
       "3       13559          1         NaN                     1102           202007  \n",
       "4      192033          1         NaN                    10127           202006  "
      ]
     },
     "execution_count": 10,
     "metadata": {},
     "output_type": "execute_result"
    }
   ],
   "source": [
    "df.head()"
   ]
  },
  {
   "cell_type": "code",
   "execution_count": null,
   "metadata": {},
   "outputs": [],
   "source": []
  },
  {
   "cell_type": "markdown",
   "metadata": {},
   "source": [
    "### Login Kayıtları"
   ]
  },
  {
   "cell_type": "code",
   "execution_count": 11,
   "metadata": {},
   "outputs": [],
   "source": [
    "# Login Kayıtları\n",
    "df_login_donem=df.iloc[1:,0:3]\n",
    "df_login_donem.columns=[\"donem\",\"Firma_kod\",\"Login_adet\"]\n",
    "df_login_donem[\"Login_adet\"]=df_login_donem[\"Login_adet\"].astype(int)"
   ]
  },
  {
   "cell_type": "code",
   "execution_count": 12,
   "metadata": {},
   "outputs": [],
   "source": [
    "# Tarihleri Perioda Çevirdim\n",
    "df_login_donem[\"donem\"]=df_login_donem[\"donem\"].apply(lambda x: str(x)[0:4]+\"-\"+str(x)[4:]+\"-\"+\"01\")\n",
    "df_login_donem[\"donem\"]=pd.to_datetime(df_login_donem.donem).dt.to_period('m')"
   ]
  },
  {
   "cell_type": "code",
   "execution_count": 58,
   "metadata": {},
   "outputs": [
    {
     "data": {
      "text/html": [
       "<div>\n",
       "<style scoped>\n",
       "    .dataframe tbody tr th:only-of-type {\n",
       "        vertical-align: middle;\n",
       "    }\n",
       "\n",
       "    .dataframe tbody tr th {\n",
       "        vertical-align: top;\n",
       "    }\n",
       "\n",
       "    .dataframe thead th {\n",
       "        text-align: right;\n",
       "    }\n",
       "</style>\n",
       "<table border=\"1\" class=\"dataframe\">\n",
       "  <thead>\n",
       "    <tr style=\"text-align: right;\">\n",
       "      <th></th>\n",
       "      <th>donem</th>\n",
       "      <th>Firma_kod</th>\n",
       "      <th>Login_adet</th>\n",
       "    </tr>\n",
       "  </thead>\n",
       "  <tbody>\n",
       "    <tr>\n",
       "      <th>1</th>\n",
       "      <td>2019-08</td>\n",
       "      <td>207104</td>\n",
       "      <td>2</td>\n",
       "    </tr>\n",
       "    <tr>\n",
       "      <th>2</th>\n",
       "      <td>2019-10</td>\n",
       "      <td>32850</td>\n",
       "      <td>1</td>\n",
       "    </tr>\n",
       "    <tr>\n",
       "      <th>3</th>\n",
       "      <td>2020-02</td>\n",
       "      <td>211761</td>\n",
       "      <td>2</td>\n",
       "    </tr>\n",
       "    <tr>\n",
       "      <th>4</th>\n",
       "      <td>2019-12</td>\n",
       "      <td>107276</td>\n",
       "      <td>3</td>\n",
       "    </tr>\n",
       "    <tr>\n",
       "      <th>5</th>\n",
       "      <td>2020-02</td>\n",
       "      <td>31690</td>\n",
       "      <td>6</td>\n",
       "    </tr>\n",
       "  </tbody>\n",
       "</table>\n",
       "</div>"
      ],
      "text/plain": [
       "     donem Firma_kod  Login_adet\n",
       "1  2019-08    207104           2\n",
       "2  2019-10     32850           1\n",
       "3  2020-02    211761           2\n",
       "4  2019-12    107276           3\n",
       "5  2020-02     31690           6"
      ]
     },
     "execution_count": 58,
     "metadata": {},
     "output_type": "execute_result"
    }
   ],
   "source": [
    "df_login_donem.head()"
   ]
  },
  {
   "cell_type": "code",
   "execution_count": 14,
   "metadata": {},
   "outputs": [
    {
     "data": {
      "text/plain": [
       "62659"
      ]
     },
     "execution_count": 14,
     "metadata": {},
     "output_type": "execute_result"
    }
   ],
   "source": [
    "# Firma Sayısı\n",
    "df_login_donem[\"Firma_kod\"].nunique()"
   ]
  },
  {
   "cell_type": "code",
   "execution_count": 15,
   "metadata": {},
   "outputs": [
    {
     "data": {
      "image/png": "[encoded data removed]",
      "text/plain": [
       "<Figure size 432x288 with 1 Axes>"
      ]
     },
     "metadata": {
      "needs_background": "light"
     },
     "output_type": "display_data"
    }
   ],
   "source": [
    "sns.boxplot(\"donem\",\"Login_adet\", data = df_login_donem.sort_values(\"donem\"))\n",
    "plt.xticks(rotation=90);"
   ]
  },
  {
   "cell_type": "code",
   "execution_count": 16,
   "metadata": {},
   "outputs": [
    {
     "data": {
      "image/png": "[encoded data removed]",
      "text/plain": [
       "<Figure size 360x360 with 1 Axes>"
      ]
     },
     "metadata": {
      "needs_background": "light"
     },
     "output_type": "display_data"
    }
   ],
   "source": [
    "# Her dönem ortalama login sayısı\n",
    "sns.catplot(\"donem\",\"Login_adet\", data = df_login_donem.sort_values(\"donem\"), kind=\"point\")\n",
    "plt.xticks(rotation=90);"
   ]
  },
  {
   "cell_type": "code",
   "execution_count": 17,
   "metadata": {},
   "outputs": [
    {
     "data": {
      "image/png": "[encoded data removed]",
      "text/plain": [
       "<Figure size 432x288 with 1 Axes>"
      ]
     },
     "metadata": {
      "needs_background": "light"
     },
     "output_type": "display_data"
    }
   ],
   "source": [
    "# Her dönem toplam login sayısı\n",
    "sns.barplot(df_login_donem.groupby(\"donem\")[\"Login_adet\"].sum().index,df_login_donem.groupby(\"donem\")[\"Login_adet\"].sum())\n",
    "plt.xticks(rotation=90);"
   ]
  },
  {
   "cell_type": "code",
   "execution_count": 18,
   "metadata": {},
   "outputs": [
    {
     "data": {
      "image/png": "[encoded data removed]",
      "text/plain": [
       "<Figure size 432x288 with 1 Axes>"
      ]
     },
     "metadata": {
      "needs_background": "light"
     },
     "output_type": "display_data"
    }
   ],
   "source": [
    "# Her dönemde Login yapan toplam firma sayısı\n",
    "sns.countplot(x=df_login_donem[\"donem\"].sort_values())\n",
    "plt.xticks(rotation=90);"
   ]
  },
  {
   "cell_type": "markdown",
   "metadata": {},
   "source": [
    "### İlan Dönemi Kayıtları"
   ]
  },
  {
   "cell_type": "code",
   "execution_count": 19,
   "metadata": {},
   "outputs": [],
   "source": [
    "# İlan Dönemi Kayıtları\n",
    "df_ilan_donem=df.iloc[1:,4:7]\n",
    "df_ilan_donem.columns=[\"donem\",\"Firma_kod\",\"ilan_adet\"]\n",
    "df_ilan_donem.dropna(inplace=True)"
   ]
  },
  {
   "cell_type": "code",
   "execution_count": 20,
   "metadata": {},
   "outputs": [],
   "source": [
    "#Tarihleri Perioda Çevirdim\n",
    "df_ilan_donem[\"donem\"]=df_ilan_donem[\"donem\"].apply(lambda x: str(x)[0:4]+\"-\"+str(x)[4:]+\"-\"+\"01\")\n",
    "df_ilan_donem.loc[df_ilan_donem[\"donem\"]==\"3008-05-01\",\"donem\"]=\"2019-05-01\"\n",
    "df_ilan_donem[\"donem\"]=pd.to_datetime(df_ilan_donem.donem).dt.to_period('m')"
   ]
  },
  {
   "cell_type": "code",
   "execution_count": 21,
   "metadata": {},
   "outputs": [
    {
     "data": {
      "text/html": [
       "<div>\n",
       "<style scoped>\n",
       "    .dataframe tbody tr th:only-of-type {\n",
       "        vertical-align: middle;\n",
       "    }\n",
       "\n",
       "    .dataframe tbody tr th {\n",
       "        vertical-align: top;\n",
       "    }\n",
       "\n",
       "    .dataframe thead th {\n",
       "        text-align: right;\n",
       "    }\n",
       "</style>\n",
       "<table border=\"1\" class=\"dataframe\">\n",
       "  <thead>\n",
       "    <tr style=\"text-align: right;\">\n",
       "      <th></th>\n",
       "      <th>donem</th>\n",
       "      <th>Firma_kod</th>\n",
       "      <th>ilan_adet</th>\n",
       "    </tr>\n",
       "  </thead>\n",
       "  <tbody>\n",
       "    <tr>\n",
       "      <th>115433</th>\n",
       "      <td>2019-09</td>\n",
       "      <td>52753</td>\n",
       "      <td>4</td>\n",
       "    </tr>\n",
       "    <tr>\n",
       "      <th>115434</th>\n",
       "      <td>2019-10</td>\n",
       "      <td>48616</td>\n",
       "      <td>2</td>\n",
       "    </tr>\n",
       "    <tr>\n",
       "      <th>115435</th>\n",
       "      <td>2019-09</td>\n",
       "      <td>119053</td>\n",
       "      <td>6</td>\n",
       "    </tr>\n",
       "    <tr>\n",
       "      <th>115436</th>\n",
       "      <td>2019-12</td>\n",
       "      <td>72102</td>\n",
       "      <td>1</td>\n",
       "    </tr>\n",
       "    <tr>\n",
       "      <th>115437</th>\n",
       "      <td>2019-06</td>\n",
       "      <td>155973</td>\n",
       "      <td>1</td>\n",
       "    </tr>\n",
       "  </tbody>\n",
       "</table>\n",
       "</div>"
      ],
      "text/plain": [
       "          donem Firma_kod ilan_adet\n",
       "115433  2019-09     52753         4\n",
       "115434  2019-10     48616         2\n",
       "115435  2019-09    119053         6\n",
       "115436  2019-12     72102         1\n",
       "115437  2019-06    155973         1"
      ]
     },
     "execution_count": 21,
     "metadata": {},
     "output_type": "execute_result"
    }
   ],
   "source": [
    "df_ilan_donem.tail()"
   ]
  },
  {
   "cell_type": "code",
   "execution_count": 22,
   "metadata": {},
   "outputs": [
    {
     "data": {
      "image/png": "[encoded data removed]",
      "text/plain": [
       "<Figure size 432x288 with 1 Axes>"
      ]
     },
     "metadata": {
      "needs_background": "light"
     },
     "output_type": "display_data"
    }
   ],
   "source": [
    "sns.boxplot(\"donem\",\"ilan_adet\", data = df_ilan_donem.sort_values(\"donem\"))\n",
    "plt.xticks(rotation=90);"
   ]
  },
  {
   "cell_type": "code",
   "execution_count": 23,
   "metadata": {},
   "outputs": [
    {
     "data": {
      "image/png": "[encoded data removed]",
      "text/plain": [
       "<Figure size 360x360 with 1 Axes>"
      ]
     },
     "metadata": {
      "needs_background": "light"
     },
     "output_type": "display_data"
    }
   ],
   "source": [
    "# Her dönemde ortalam ilan sayısı\n",
    "sns.catplot(\"donem\",\"ilan_adet\", data = df_ilan_donem.sort_values(\"donem\"), kind=\"point\")\n",
    "plt.xticks(rotation=90);\n"
   ]
  },
  {
   "cell_type": "code",
   "execution_count": 24,
   "metadata": {},
   "outputs": [
    {
     "data": {
      "image/png": "[encoded data removed]",
      "text/plain": [
       "<Figure size 432x288 with 1 Axes>"
      ]
     },
     "metadata": {
      "needs_background": "light"
     },
     "output_type": "display_data"
    }
   ],
   "source": [
    "# Her döenmde Toplam İlan Sayısı\n",
    "sns.barplot(df_ilan_donem.groupby(\"donem\")[\"ilan_adet\"].sum().index,df_ilan_donem.groupby(\"donem\")[\"ilan_adet\"].sum())\n",
    "plt.xticks(rotation=90);"
   ]
  },
  {
   "cell_type": "code",
   "execution_count": 25,
   "metadata": {},
   "outputs": [
    {
     "data": {
      "image/png": "[encoded data removed]",
      "text/plain": [
       "<Figure size 432x288 with 1 Axes>"
      ]
     },
     "metadata": {
      "needs_background": "light"
     },
     "output_type": "display_data"
    }
   ],
   "source": [
    "# Her dönemde İaln Veren  toplam firma sayısı\n",
    "sns.countplot(x=df_ilan_donem[\"donem\"].sort_values())\n",
    "plt.xticks(rotation=90);"
   ]
  },
  {
   "cell_type": "markdown",
   "metadata": {},
   "source": [
    "### Sözleşme Dönemi Kayıtları"
   ]
  },
  {
   "cell_type": "code",
   "execution_count": 26,
   "metadata": {},
   "outputs": [],
   "source": [
    "# Sözleşme Dönemi Kayıtları\n",
    "df_sozlesme_donem=df.iloc[1:,8:]\n",
    "df_sozlesme_donem.columns=[\"Firma_kod\",\"yenileme_donem\"]\n",
    "df_sozlesme_donem.dropna(inplace=True)"
   ]
  },
  {
   "cell_type": "code",
   "execution_count": 27,
   "metadata": {},
   "outputs": [],
   "source": [
    "# Tarihleri Perioda Çevirdim\n",
    "df_sozlesme_donem[\"yenileme_donem\"]=df_sozlesme_donem[\"yenileme_donem\"].apply(lambda x: str(x)[0:4]+\"-\"+str(x)[4:]+\"-\"+\"01\")\n",
    "df_sozlesme_donem[\"yenileme_donem\"]=pd.to_datetime(df_sozlesme_donem.yenileme_donem).dt.to_period('m')"
   ]
  },
  {
   "cell_type": "code",
   "execution_count": 28,
   "metadata": {},
   "outputs": [
    {
     "data": {
      "text/html": [
       "<div>\n",
       "<style scoped>\n",
       "    .dataframe tbody tr th:only-of-type {\n",
       "        vertical-align: middle;\n",
       "    }\n",
       "\n",
       "    .dataframe tbody tr th {\n",
       "        vertical-align: top;\n",
       "    }\n",
       "\n",
       "    .dataframe thead th {\n",
       "        text-align: right;\n",
       "    }\n",
       "</style>\n",
       "<table border=\"1\" class=\"dataframe\">\n",
       "  <thead>\n",
       "    <tr style=\"text-align: right;\">\n",
       "      <th></th>\n",
       "      <th>Firma_kod</th>\n",
       "      <th>yenileme_donem</th>\n",
       "    </tr>\n",
       "  </thead>\n",
       "  <tbody>\n",
       "    <tr>\n",
       "      <th>4384</th>\n",
       "      <td>99602</td>\n",
       "      <td>2020-06</td>\n",
       "    </tr>\n",
       "    <tr>\n",
       "      <th>4385</th>\n",
       "      <td>99626</td>\n",
       "      <td>2020-06</td>\n",
       "    </tr>\n",
       "    <tr>\n",
       "      <th>4386</th>\n",
       "      <td>99799</td>\n",
       "      <td>2020-05</td>\n",
       "    </tr>\n",
       "    <tr>\n",
       "      <th>4387</th>\n",
       "      <td>99963</td>\n",
       "      <td>2020-05</td>\n",
       "    </tr>\n",
       "    <tr>\n",
       "      <th>4388</th>\n",
       "      <td>10089</td>\n",
       "      <td>2020-06</td>\n",
       "    </tr>\n",
       "  </tbody>\n",
       "</table>\n",
       "</div>"
      ],
      "text/plain": [
       "     Firma_kod yenileme_donem\n",
       "4384     99602        2020-06\n",
       "4385     99626        2020-06\n",
       "4386     99799        2020-05\n",
       "4387     99963        2020-05\n",
       "4388     10089        2020-06"
      ]
     },
     "execution_count": 28,
     "metadata": {},
     "output_type": "execute_result"
    }
   ],
   "source": [
    "df_sozlesme_donem.tail()"
   ]
  },
  {
   "cell_type": "code",
   "execution_count": 60,
   "metadata": {},
   "outputs": [
    {
     "data": {
      "text/plain": [
       "Period('2020-05', 'M')"
      ]
     },
     "execution_count": 60,
     "metadata": {},
     "output_type": "execute_result"
    }
   ],
   "source": [
    "# En eski sözleşme tarihi\n",
    "df_sozlesme_donem[\"yenileme_donem\"].min()"
   ]
  },
  {
   "cell_type": "code",
   "execution_count": 59,
   "metadata": {},
   "outputs": [
    {
     "data": {
      "text/plain": [
       "<AxesSubplot:xlabel='yenileme_donem', ylabel='count'>"
      ]
     },
     "execution_count": 59,
     "metadata": {},
     "output_type": "execute_result"
    },
    {
     "data": {
      "image/png": "[encoded data removed]",
      "text/plain": [
       "<Figure size 432x288 with 1 Axes>"
      ]
     },
     "metadata": {
      "needs_background": "light"
     },
     "output_type": "display_data"
    }
   ],
   "source": [
    "sns.countplot(df_sozlesme_donem[\"yenileme_donem\"])"
   ]
  },
  {
   "cell_type": "code",
   "execution_count": 29,
   "metadata": {},
   "outputs": [
    {
     "data": {
      "text/plain": [
       "(292292, 3)"
      ]
     },
     "execution_count": 29,
     "metadata": {},
     "output_type": "execute_result"
    }
   ],
   "source": [
    "# login'de kayıt sayısı\n",
    "df_login_donem.shape"
   ]
  },
  {
   "cell_type": "code",
   "execution_count": 30,
   "metadata": {},
   "outputs": [
    {
     "data": {
      "text/plain": [
       "(115437, 3)"
      ]
     },
     "execution_count": 30,
     "metadata": {},
     "output_type": "execute_result"
    }
   ],
   "source": [
    "#İlandaki kayıt sayısı\n",
    "df_ilan_donem.shape"
   ]
  },
  {
   "cell_type": "code",
   "execution_count": 31,
   "metadata": {},
   "outputs": [
    {
     "data": {
      "text/plain": [
       "(4388, 2)"
      ]
     },
     "execution_count": 31,
     "metadata": {},
     "output_type": "execute_result"
    }
   ],
   "source": [
    "#Sözleşmedeki kayıt sayısı\n",
    "df_sozlesme_donem.shape"
   ]
  },
  {
   "cell_type": "markdown",
   "metadata": {},
   "source": [
    "### İlan ve Login Verilerinin Birşeltirilmesi"
   ]
  },
  {
   "cell_type": "code",
   "execution_count": 32,
   "metadata": {},
   "outputs": [],
   "source": [
    "# İlan ve Login Verilerinin Birşeltirilmesi\n",
    "df_ilan_login=df_login_donem.merge(df_ilan_donem,how=\"left\",on=[\"Firma_kod\",\"donem\"] )\n",
    "df_ilan_login.fillna(0,inplace=True)\n",
    "\n",
    "# Verilerin Uyygun veri tipine dönüştirme\n",
    "df_ilan_login[\"Login_adet\"]=df_ilan_login[\"Login_adet\"].astype(float)\n",
    "df_ilan_login[\"ilan_adet\"]=df_ilan_login[\"ilan_adet\"].astype(float)"
   ]
  },
  {
   "cell_type": "code",
   "execution_count": 33,
   "metadata": {},
   "outputs": [
    {
     "data": {
      "text/html": [
       "<div>\n",
       "<style scoped>\n",
       "    .dataframe tbody tr th:only-of-type {\n",
       "        vertical-align: middle;\n",
       "    }\n",
       "\n",
       "    .dataframe tbody tr th {\n",
       "        vertical-align: top;\n",
       "    }\n",
       "\n",
       "    .dataframe thead th {\n",
       "        text-align: right;\n",
       "    }\n",
       "</style>\n",
       "<table border=\"1\" class=\"dataframe\">\n",
       "  <thead>\n",
       "    <tr style=\"text-align: right;\">\n",
       "      <th></th>\n",
       "      <th>donem</th>\n",
       "      <th>Firma_kod</th>\n",
       "      <th>Login_adet</th>\n",
       "      <th>ilan_adet</th>\n",
       "    </tr>\n",
       "  </thead>\n",
       "  <tbody>\n",
       "    <tr>\n",
       "      <th>0</th>\n",
       "      <td>2019-08</td>\n",
       "      <td>207104</td>\n",
       "      <td>2.0</td>\n",
       "      <td>0.0</td>\n",
       "    </tr>\n",
       "    <tr>\n",
       "      <th>1</th>\n",
       "      <td>2019-10</td>\n",
       "      <td>32850</td>\n",
       "      <td>1.0</td>\n",
       "      <td>0.0</td>\n",
       "    </tr>\n",
       "    <tr>\n",
       "      <th>2</th>\n",
       "      <td>2020-02</td>\n",
       "      <td>211761</td>\n",
       "      <td>2.0</td>\n",
       "      <td>1.0</td>\n",
       "    </tr>\n",
       "    <tr>\n",
       "      <th>3</th>\n",
       "      <td>2019-12</td>\n",
       "      <td>107276</td>\n",
       "      <td>3.0</td>\n",
       "      <td>0.0</td>\n",
       "    </tr>\n",
       "    <tr>\n",
       "      <th>4</th>\n",
       "      <td>2020-02</td>\n",
       "      <td>31690</td>\n",
       "      <td>6.0</td>\n",
       "      <td>2.0</td>\n",
       "    </tr>\n",
       "  </tbody>\n",
       "</table>\n",
       "</div>"
      ],
      "text/plain": [
       "     donem  Firma_kod  Login_adet  ilan_adet\n",
       "0  2019-08     207104         2.0        0.0\n",
       "1  2019-10      32850         1.0        0.0\n",
       "2  2020-02     211761         2.0        1.0\n",
       "3  2019-12     107276         3.0        0.0\n",
       "4  2020-02      31690         6.0        2.0"
      ]
     },
     "execution_count": 33,
     "metadata": {},
     "output_type": "execute_result"
    }
   ],
   "source": [
    "df_ilan_login.head()"
   ]
  },
  {
   "cell_type": "code",
   "execution_count": null,
   "metadata": {},
   "outputs": [],
   "source": []
  },
  {
   "cell_type": "markdown",
   "metadata": {},
   "source": [
    "## Matirisn Oluşturulması"
   ]
  },
  {
   "cell_type": "code",
   "execution_count": 36,
   "metadata": {},
   "outputs": [],
   "source": [
    "# Matrisi Oluşturmak İçin Firma Kodlarına göre Grupby yaptım, ve Login adet ve ilan adet Ortalamalını aldım\n",
    "df_matrix=df_ilan_login.groupby([\"Firma_kod\"]).agg({\"Login_adet\":\"mean\",\n",
    "                                   \"ilan_adet\":\"mean\"}).reset_index()\n",
    "df_matrix.fillna(0,inplace=True)"
   ]
  },
  {
   "cell_type": "code",
   "execution_count": 37,
   "metadata": {},
   "outputs": [
    {
     "data": {
      "text/html": [
       "<div>\n",
       "<style scoped>\n",
       "    .dataframe tbody tr th:only-of-type {\n",
       "        vertical-align: middle;\n",
       "    }\n",
       "\n",
       "    .dataframe tbody tr th {\n",
       "        vertical-align: top;\n",
       "    }\n",
       "\n",
       "    .dataframe thead th {\n",
       "        text-align: right;\n",
       "    }\n",
       "</style>\n",
       "<table border=\"1\" class=\"dataframe\">\n",
       "  <thead>\n",
       "    <tr style=\"text-align: right;\">\n",
       "      <th></th>\n",
       "      <th>Firma_kod</th>\n",
       "      <th>Login_adet</th>\n",
       "      <th>ilan_adet</th>\n",
       "    </tr>\n",
       "  </thead>\n",
       "  <tbody>\n",
       "    <tr>\n",
       "      <th>0</th>\n",
       "      <td>1101</td>\n",
       "      <td>511.3125</td>\n",
       "      <td>42.6250</td>\n",
       "    </tr>\n",
       "    <tr>\n",
       "      <th>1</th>\n",
       "      <td>1102</td>\n",
       "      <td>58.7500</td>\n",
       "      <td>3.8125</td>\n",
       "    </tr>\n",
       "    <tr>\n",
       "      <th>2</th>\n",
       "      <td>1103</td>\n",
       "      <td>50.9375</td>\n",
       "      <td>5.3125</td>\n",
       "    </tr>\n",
       "    <tr>\n",
       "      <th>3</th>\n",
       "      <td>1104</td>\n",
       "      <td>196867.0625</td>\n",
       "      <td>18.6875</td>\n",
       "    </tr>\n",
       "    <tr>\n",
       "      <th>4</th>\n",
       "      <td>1105</td>\n",
       "      <td>1.0000</td>\n",
       "      <td>0.0000</td>\n",
       "    </tr>\n",
       "  </tbody>\n",
       "</table>\n",
       "</div>"
      ],
      "text/plain": [
       "   Firma_kod   Login_adet  ilan_adet\n",
       "0       1101     511.3125    42.6250\n",
       "1       1102      58.7500     3.8125\n",
       "2       1103      50.9375     5.3125\n",
       "3       1104  196867.0625    18.6875\n",
       "4       1105       1.0000     0.0000"
      ]
     },
     "execution_count": 37,
     "metadata": {},
     "output_type": "execute_result"
    }
   ],
   "source": [
    "df_matrix.head()"
   ]
  },
  {
   "cell_type": "code",
   "execution_count": 38,
   "metadata": {},
   "outputs": [],
   "source": [
    "#Aralıklara Göre firma sayısını bulan fonksiyon\n",
    "def matrix_df(l1,l2,l3,l4):\n",
    "    say=df_matrix[((df_matrix[\"Login_adet\"]>=l1) & (df_matrix[\"Login_adet\"]<l2))& ((df_matrix[\"ilan_adet\"]>=l3) & (df_matrix[\"ilan_adet\"]<l4))].shape[0]\n",
    "    return(say)"
   ]
  },
  {
   "cell_type": "code",
   "execution_count": 47,
   "metadata": {},
   "outputs": [],
   "source": [
    "# İstenen Matirisin Oluşturulması\n",
    "matris = pd.DataFrame()"
   ]
  },
  {
   "cell_type": "code",
   "execution_count": 53,
   "metadata": {},
   "outputs": [],
   "source": [
    "for i1,i2 in [[0,5],[5,10],[10,10**10]]:\n",
    "    for k1,k2 in [[0,10],[10,100],[100,10**10]]:\n",
    "        matris.loc[str(k1)+\"-\"+str(k2),str(i1)+\"-\"+str(i2)] = matrix_df(k1,k2,i1,i2)\n",
    "        \n",
    "matris.index=['0-10', '10-100', '100 +']\n",
    "matris.columns=['0-5', '5-10', '10 +']"
   ]
  },
  {
   "cell_type": "code",
   "execution_count": 56,
   "metadata": {},
   "outputs": [
    {
     "data": {
      "text/html": [
       "<div>\n",
       "<style scoped>\n",
       "    .dataframe tbody tr th:only-of-type {\n",
       "        vertical-align: middle;\n",
       "    }\n",
       "\n",
       "    .dataframe tbody tr th {\n",
       "        vertical-align: top;\n",
       "    }\n",
       "\n",
       "    .dataframe thead th {\n",
       "        text-align: right;\n",
       "    }\n",
       "</style>\n",
       "<table border=\"1\" class=\"dataframe\">\n",
       "  <thead>\n",
       "    <tr style=\"text-align: right;\">\n",
       "      <th></th>\n",
       "      <th>0-5</th>\n",
       "      <th>5-10</th>\n",
       "      <th>10 +</th>\n",
       "    </tr>\n",
       "  </thead>\n",
       "  <tbody>\n",
       "    <tr>\n",
       "      <th>0-10</th>\n",
       "      <td>41530.0</td>\n",
       "      <td>0.0</td>\n",
       "      <td>1.0</td>\n",
       "    </tr>\n",
       "    <tr>\n",
       "      <th>10-100</th>\n",
       "      <td>20532.0</td>\n",
       "      <td>216.0</td>\n",
       "      <td>26.0</td>\n",
       "    </tr>\n",
       "    <tr>\n",
       "      <th>100 +</th>\n",
       "      <td>91.0</td>\n",
       "      <td>109.0</td>\n",
       "      <td>154.0</td>\n",
       "    </tr>\n",
       "  </tbody>\n",
       "</table>\n",
       "</div>"
      ],
      "text/plain": [
       "            0-5   5-10   10 +\n",
       "0-10    41530.0    0.0    1.0\n",
       "10-100  20532.0  216.0   26.0\n",
       "100 +      91.0  109.0  154.0"
      ]
     },
     "execution_count": 56,
     "metadata": {},
     "output_type": "execute_result"
    }
   ],
   "source": [
    "matris"
   ]
  },
  {
   "cell_type": "code",
   "execution_count": 57,
   "metadata": {},
   "outputs": [
    {
     "data": {
      "text/plain": [
       "62659.0"
      ]
     },
     "execution_count": 57,
     "metadata": {},
     "output_type": "execute_result"
    }
   ],
   "source": [
    "# Sağlamasına baktım, 62659 müşteri vardı ve matside de toplam 62659 müşteri çıktı\n",
    "matris.sum().sum()"
   ]
  },
  {
   "cell_type": "markdown",
   "metadata": {},
   "source": [
    "## Korelasyonun incelenmesi\n",
    "\n",
    "**Login Sıklığı ile İlan yayınlama sıklığı arasındaki korelasyonu inceleyelim**"
   ]
  },
  {
   "cell_type": "markdown",
   "metadata": {},
   "source": [
    "### Genel Topalama göre Korelasyon"
   ]
  },
  {
   "cell_type": "code",
   "execution_count": 82,
   "metadata": {},
   "outputs": [
    {
     "data": {
      "text/html": [
       "<div>\n",
       "<style scoped>\n",
       "    .dataframe tbody tr th:only-of-type {\n",
       "        vertical-align: middle;\n",
       "    }\n",
       "\n",
       "    .dataframe tbody tr th {\n",
       "        vertical-align: top;\n",
       "    }\n",
       "\n",
       "    .dataframe thead th {\n",
       "        text-align: right;\n",
       "    }\n",
       "</style>\n",
       "<table border=\"1\" class=\"dataframe\">\n",
       "  <thead>\n",
       "    <tr style=\"text-align: right;\">\n",
       "      <th></th>\n",
       "      <th>Login_adet</th>\n",
       "      <th>ilan_adet</th>\n",
       "    </tr>\n",
       "  </thead>\n",
       "  <tbody>\n",
       "    <tr>\n",
       "      <th>Login_adet</th>\n",
       "      <td>1.000000</td>\n",
       "      <td>0.078902</td>\n",
       "    </tr>\n",
       "    <tr>\n",
       "      <th>ilan_adet</th>\n",
       "      <td>0.078902</td>\n",
       "      <td>1.000000</td>\n",
       "    </tr>\n",
       "  </tbody>\n",
       "</table>\n",
       "</div>"
      ],
      "text/plain": [
       "            Login_adet  ilan_adet\n",
       "Login_adet    1.000000   0.078902\n",
       "ilan_adet     0.078902   1.000000"
      ]
     },
     "execution_count": 82,
     "metadata": {},
     "output_type": "execute_result"
    }
   ],
   "source": [
    "# Müşteirlein toplam login ve ilan sıklıklarına göre korelesyonun incelenmesi\n",
    "df_matrix1[[\"Login_adet\",\"ilan_adet\"]].corr()"
   ]
  },
  {
   "cell_type": "code",
   "execution_count": 86,
   "metadata": {},
   "outputs": [
    {
     "data": {
      "text/html": [
       "<div>\n",
       "<style scoped>\n",
       "    .dataframe tbody tr th:only-of-type {\n",
       "        vertical-align: middle;\n",
       "    }\n",
       "\n",
       "    .dataframe tbody tr th {\n",
       "        vertical-align: top;\n",
       "    }\n",
       "\n",
       "    .dataframe thead th {\n",
       "        text-align: right;\n",
       "    }\n",
       "</style>\n",
       "<table border=\"1\" class=\"dataframe\">\n",
       "  <thead>\n",
       "    <tr style=\"text-align: right;\">\n",
       "      <th></th>\n",
       "      <th>Login_adet</th>\n",
       "      <th>ilan_adet</th>\n",
       "    </tr>\n",
       "  </thead>\n",
       "  <tbody>\n",
       "    <tr>\n",
       "      <th>0</th>\n",
       "      <td>511.3125</td>\n",
       "      <td>42.6250</td>\n",
       "    </tr>\n",
       "    <tr>\n",
       "      <th>1</th>\n",
       "      <td>58.7500</td>\n",
       "      <td>3.8125</td>\n",
       "    </tr>\n",
       "    <tr>\n",
       "      <th>2</th>\n",
       "      <td>50.9375</td>\n",
       "      <td>5.3125</td>\n",
       "    </tr>\n",
       "    <tr>\n",
       "      <th>3</th>\n",
       "      <td>196867.0625</td>\n",
       "      <td>18.6875</td>\n",
       "    </tr>\n",
       "    <tr>\n",
       "      <th>4</th>\n",
       "      <td>1.0000</td>\n",
       "      <td>0.0000</td>\n",
       "    </tr>\n",
       "    <tr>\n",
       "      <th>...</th>\n",
       "      <td>...</td>\n",
       "      <td>...</td>\n",
       "    </tr>\n",
       "    <tr>\n",
       "      <th>62654</th>\n",
       "      <td>2.0000</td>\n",
       "      <td>0.0000</td>\n",
       "    </tr>\n",
       "    <tr>\n",
       "      <th>62655</th>\n",
       "      <td>1.0000</td>\n",
       "      <td>1.0000</td>\n",
       "    </tr>\n",
       "    <tr>\n",
       "      <th>62656</th>\n",
       "      <td>6.0000</td>\n",
       "      <td>1.0000</td>\n",
       "    </tr>\n",
       "    <tr>\n",
       "      <th>62657</th>\n",
       "      <td>1.0000</td>\n",
       "      <td>1.0000</td>\n",
       "    </tr>\n",
       "    <tr>\n",
       "      <th>62658</th>\n",
       "      <td>5.0000</td>\n",
       "      <td>1.0000</td>\n",
       "    </tr>\n",
       "  </tbody>\n",
       "</table>\n",
       "<p>62659 rows × 2 columns</p>\n",
       "</div>"
      ],
      "text/plain": [
       "        Login_adet  ilan_adet\n",
       "0         511.3125    42.6250\n",
       "1          58.7500     3.8125\n",
       "2          50.9375     5.3125\n",
       "3      196867.0625    18.6875\n",
       "4           1.0000     0.0000\n",
       "...            ...        ...\n",
       "62654       2.0000     0.0000\n",
       "62655       1.0000     1.0000\n",
       "62656       6.0000     1.0000\n",
       "62657       1.0000     1.0000\n",
       "62658       5.0000     1.0000\n",
       "\n",
       "[62659 rows x 2 columns]"
      ]
     },
     "execution_count": 86,
     "metadata": {},
     "output_type": "execute_result"
    }
   ],
   "source": [
    "df_matrix[[\"Login_adet\",\"ilan_adet\"]]"
   ]
  },
  {
   "cell_type": "code",
   "execution_count": 65,
   "metadata": {},
   "outputs": [
    {
     "data": {
      "text/plain": [
       "<AxesSubplot:>"
      ]
     },
     "execution_count": 65,
     "metadata": {},
     "output_type": "execute_result"
    },
    {
     "data": {
      "image/png": "[encoded data removed]",
      "text/plain": [
       "<Figure size 432x288 with 2 Axes>"
      ]
     },
     "metadata": {
      "needs_background": "light"
     },
     "output_type": "display_data"
    }
   ],
   "source": [
    "sns.heatmap(df_matrix[[\"Login_adet\",\"ilan_adet\"]].corr(),annot=True)"
   ]
  },
  {
   "cell_type": "markdown",
   "metadata": {},
   "source": [
    "### Aylık Duruma Göre korelasyo"
   ]
  },
  {
   "cell_type": "code",
   "execution_count": 66,
   "metadata": {},
   "outputs": [],
   "source": [
    "# Aylık inceleme  İçin Firma Kodlarına göre ve döneme  Grupby yaptım, ve Login adet ve ilan adet Ortalamalını aldım\n",
    "df_matrix_aylik=df_ilan_login.groupby([\"Firma_kod\",\"donem\"]).agg({\"Login_adet\":\"mean\",\n",
    "                                   \"ilan_adet\":\"mean\"}).reset_index()\n",
    "df_matrix_aylik.fillna(0,inplace=True)"
   ]
  },
  {
   "cell_type": "code",
   "execution_count": 67,
   "metadata": {},
   "outputs": [
    {
     "data": {
      "text/html": [
       "<div>\n",
       "<style scoped>\n",
       "    .dataframe tbody tr th:only-of-type {\n",
       "        vertical-align: middle;\n",
       "    }\n",
       "\n",
       "    .dataframe tbody tr th {\n",
       "        vertical-align: top;\n",
       "    }\n",
       "\n",
       "    .dataframe thead th {\n",
       "        text-align: right;\n",
       "    }\n",
       "</style>\n",
       "<table border=\"1\" class=\"dataframe\">\n",
       "  <thead>\n",
       "    <tr style=\"text-align: right;\">\n",
       "      <th></th>\n",
       "      <th>Firma_kod</th>\n",
       "      <th>donem</th>\n",
       "      <th>Login_adet</th>\n",
       "      <th>ilan_adet</th>\n",
       "    </tr>\n",
       "  </thead>\n",
       "  <tbody>\n",
       "    <tr>\n",
       "      <th>0</th>\n",
       "      <td>1101</td>\n",
       "      <td>2019-01</td>\n",
       "      <td>1071.0</td>\n",
       "      <td>45.0</td>\n",
       "    </tr>\n",
       "    <tr>\n",
       "      <th>1</th>\n",
       "      <td>1101</td>\n",
       "      <td>2019-02</td>\n",
       "      <td>1367.0</td>\n",
       "      <td>43.0</td>\n",
       "    </tr>\n",
       "    <tr>\n",
       "      <th>2</th>\n",
       "      <td>1101</td>\n",
       "      <td>2019-03</td>\n",
       "      <td>1331.0</td>\n",
       "      <td>44.0</td>\n",
       "    </tr>\n",
       "    <tr>\n",
       "      <th>3</th>\n",
       "      <td>1101</td>\n",
       "      <td>2019-04</td>\n",
       "      <td>557.0</td>\n",
       "      <td>40.0</td>\n",
       "    </tr>\n",
       "    <tr>\n",
       "      <th>4</th>\n",
       "      <td>1101</td>\n",
       "      <td>2019-05</td>\n",
       "      <td>427.0</td>\n",
       "      <td>42.0</td>\n",
       "    </tr>\n",
       "  </tbody>\n",
       "</table>\n",
       "</div>"
      ],
      "text/plain": [
       "   Firma_kod    donem  Login_adet  ilan_adet\n",
       "0       1101  2019-01      1071.0       45.0\n",
       "1       1101  2019-02      1367.0       43.0\n",
       "2       1101  2019-03      1331.0       44.0\n",
       "3       1101  2019-04       557.0       40.0\n",
       "4       1101  2019-05       427.0       42.0"
      ]
     },
     "execution_count": 67,
     "metadata": {},
     "output_type": "execute_result"
    }
   ],
   "source": [
    "df_matrix_aylik.head()"
   ]
  },
  {
   "cell_type": "code",
   "execution_count": 87,
   "metadata": {},
   "outputs": [
    {
     "data": {
      "text/html": [
       "<div>\n",
       "<style scoped>\n",
       "    .dataframe tbody tr th:only-of-type {\n",
       "        vertical-align: middle;\n",
       "    }\n",
       "\n",
       "    .dataframe tbody tr th {\n",
       "        vertical-align: top;\n",
       "    }\n",
       "\n",
       "    .dataframe thead th {\n",
       "        text-align: right;\n",
       "    }\n",
       "</style>\n",
       "<table border=\"1\" class=\"dataframe\">\n",
       "  <thead>\n",
       "    <tr style=\"text-align: right;\">\n",
       "      <th></th>\n",
       "      <th>Login_adet</th>\n",
       "      <th>ilan_adet</th>\n",
       "    </tr>\n",
       "  </thead>\n",
       "  <tbody>\n",
       "    <tr>\n",
       "      <th>Login_adet</th>\n",
       "      <td>1.000000</td>\n",
       "      <td>0.045243</td>\n",
       "    </tr>\n",
       "    <tr>\n",
       "      <th>ilan_adet</th>\n",
       "      <td>0.045243</td>\n",
       "      <td>1.000000</td>\n",
       "    </tr>\n",
       "  </tbody>\n",
       "</table>\n",
       "</div>"
      ],
      "text/plain": [
       "            Login_adet  ilan_adet\n",
       "Login_adet    1.000000   0.045243\n",
       "ilan_adet     0.045243   1.000000"
      ]
     },
     "execution_count": 87,
     "metadata": {},
     "output_type": "execute_result"
    }
   ],
   "source": [
    "# Correlasyon\n",
    "df_matrix_aylik[[\"Login_adet\",\"ilan_adet\"]].corr()"
   ]
  },
  {
   "cell_type": "code",
   "execution_count": 88,
   "metadata": {},
   "outputs": [
    {
     "data": {
      "image/png": "[encoded data removed]",
      "text/plain": [
       "<Figure size 432x288 with 2 Axes>"
      ]
     },
     "metadata": {
      "needs_background": "light"
     },
     "output_type": "display_data"
    }
   ],
   "source": [
    "sns.heatmap(df_matrix_aylik[[\"Login_adet\",\"ilan_adet\"]].corr(),annot =True);"
   ]
  },
  {
   "cell_type": "markdown",
   "metadata": {},
   "source": [
    "# Sözleşme Yenileme Dönemine Göre Curh Analizi"
   ]
  },
  {
   "cell_type": "code",
   "execution_count": 69,
   "metadata": {},
   "outputs": [
    {
     "data": {
      "text/html": [
       "<div>\n",
       "<style scoped>\n",
       "    .dataframe tbody tr th:only-of-type {\n",
       "        vertical-align: middle;\n",
       "    }\n",
       "\n",
       "    .dataframe tbody tr th {\n",
       "        vertical-align: top;\n",
       "    }\n",
       "\n",
       "    .dataframe thead th {\n",
       "        text-align: right;\n",
       "    }\n",
       "</style>\n",
       "<table border=\"1\" class=\"dataframe\">\n",
       "  <thead>\n",
       "    <tr style=\"text-align: right;\">\n",
       "      <th></th>\n",
       "      <th>Firma_kod</th>\n",
       "      <th>yenileme_donem</th>\n",
       "    </tr>\n",
       "  </thead>\n",
       "  <tbody>\n",
       "    <tr>\n",
       "      <th>1</th>\n",
       "      <td>100152</td>\n",
       "      <td>2020-06</td>\n",
       "    </tr>\n",
       "    <tr>\n",
       "      <th>2</th>\n",
       "      <td>100188</td>\n",
       "      <td>2020-05</td>\n",
       "    </tr>\n",
       "    <tr>\n",
       "      <th>3</th>\n",
       "      <td>1102</td>\n",
       "      <td>2020-07</td>\n",
       "    </tr>\n",
       "    <tr>\n",
       "      <th>4</th>\n",
       "      <td>10127</td>\n",
       "      <td>2020-06</td>\n",
       "    </tr>\n",
       "    <tr>\n",
       "      <th>5</th>\n",
       "      <td>1103</td>\n",
       "      <td>2020-05</td>\n",
       "    </tr>\n",
       "  </tbody>\n",
       "</table>\n",
       "</div>"
      ],
      "text/plain": [
       "  Firma_kod yenileme_donem\n",
       "1    100152        2020-06\n",
       "2    100188        2020-05\n",
       "3      1102        2020-07\n",
       "4     10127        2020-06\n",
       "5      1103        2020-05"
      ]
     },
     "execution_count": 69,
     "metadata": {},
     "output_type": "execute_result"
    }
   ],
   "source": [
    "df_sozlesme_donem.head()"
   ]
  },
  {
   "cell_type": "markdown",
   "metadata": {},
   "source": [
    "### Bütün verinin birleştirilmesi"
   ]
  },
  {
   "cell_type": "code",
   "execution_count": 70,
   "metadata": {},
   "outputs": [],
   "source": [
    "### Bütün verinin birleştirilmesi\n",
    "df_all=df_ilan_login.merge(df_sozlesme_donem,how=\"left\",on=[\"Firma_kod\"])"
   ]
  },
  {
   "cell_type": "code",
   "execution_count": 71,
   "metadata": {},
   "outputs": [
    {
     "data": {
      "text/html": [
       "<div>\n",
       "<style scoped>\n",
       "    .dataframe tbody tr th:only-of-type {\n",
       "        vertical-align: middle;\n",
       "    }\n",
       "\n",
       "    .dataframe tbody tr th {\n",
       "        vertical-align: top;\n",
       "    }\n",
       "\n",
       "    .dataframe thead th {\n",
       "        text-align: right;\n",
       "    }\n",
       "</style>\n",
       "<table border=\"1\" class=\"dataframe\">\n",
       "  <thead>\n",
       "    <tr style=\"text-align: right;\">\n",
       "      <th></th>\n",
       "      <th>donem</th>\n",
       "      <th>Firma_kod</th>\n",
       "      <th>Login_adet</th>\n",
       "      <th>ilan_adet</th>\n",
       "      <th>yenileme_donem</th>\n",
       "    </tr>\n",
       "  </thead>\n",
       "  <tbody>\n",
       "    <tr>\n",
       "      <th>0</th>\n",
       "      <td>2019-08</td>\n",
       "      <td>207104</td>\n",
       "      <td>2.0</td>\n",
       "      <td>0.0</td>\n",
       "      <td>2020-07</td>\n",
       "    </tr>\n",
       "    <tr>\n",
       "      <th>1</th>\n",
       "      <td>2019-10</td>\n",
       "      <td>32850</td>\n",
       "      <td>1.0</td>\n",
       "      <td>0.0</td>\n",
       "      <td>NaT</td>\n",
       "    </tr>\n",
       "    <tr>\n",
       "      <th>2</th>\n",
       "      <td>2020-02</td>\n",
       "      <td>211761</td>\n",
       "      <td>2.0</td>\n",
       "      <td>1.0</td>\n",
       "      <td>NaT</td>\n",
       "    </tr>\n",
       "    <tr>\n",
       "      <th>3</th>\n",
       "      <td>2019-12</td>\n",
       "      <td>107276</td>\n",
       "      <td>3.0</td>\n",
       "      <td>0.0</td>\n",
       "      <td>NaT</td>\n",
       "    </tr>\n",
       "    <tr>\n",
       "      <th>4</th>\n",
       "      <td>2020-02</td>\n",
       "      <td>31690</td>\n",
       "      <td>6.0</td>\n",
       "      <td>2.0</td>\n",
       "      <td>2020-05</td>\n",
       "    </tr>\n",
       "  </tbody>\n",
       "</table>\n",
       "</div>"
      ],
      "text/plain": [
       "     donem Firma_kod  Login_adet  ilan_adet yenileme_donem\n",
       "0  2019-08    207104         2.0        0.0        2020-07\n",
       "1  2019-10     32850         1.0        0.0            NaT\n",
       "2  2020-02    211761         2.0        1.0            NaT\n",
       "3  2019-12    107276         3.0        0.0            NaT\n",
       "4  2020-02     31690         6.0        2.0        2020-05"
      ]
     },
     "execution_count": 71,
     "metadata": {},
     "output_type": "execute_result"
    }
   ],
   "source": [
    "df_all.head()"
   ]
  },
  {
   "cell_type": "markdown",
   "metadata": {},
   "source": [
    "### Sözleşme Yenileyen firmaların Son giriş dönemleri ve yenileme dönemleri\n",
    "\n",
    "**İlk girişleri ilk sözleşme zamanı varsayarak hesaplama yapacağım**"
   ]
  },
  {
   "cell_type": "code",
   "execution_count": 72,
   "metadata": {},
   "outputs": [
    {
     "data": {
      "text/html": [
       "<div>\n",
       "<style scoped>\n",
       "    .dataframe tbody tr th:only-of-type {\n",
       "        vertical-align: middle;\n",
       "    }\n",
       "\n",
       "    .dataframe tbody tr th {\n",
       "        vertical-align: top;\n",
       "    }\n",
       "\n",
       "    .dataframe thead th {\n",
       "        text-align: right;\n",
       "    }\n",
       "</style>\n",
       "<table border=\"1\" class=\"dataframe\">\n",
       "  <thead>\n",
       "    <tr style=\"text-align: right;\">\n",
       "      <th></th>\n",
       "      <th>Firma_kod</th>\n",
       "      <th>ilk_giris</th>\n",
       "      <th>son_giris</th>\n",
       "      <th>yenileme_donemi</th>\n",
       "    </tr>\n",
       "  </thead>\n",
       "  <tbody>\n",
       "    <tr>\n",
       "      <th>1</th>\n",
       "      <td>1102</td>\n",
       "      <td>2019-01</td>\n",
       "      <td>2020-04</td>\n",
       "      <td>2020-07</td>\n",
       "    </tr>\n",
       "    <tr>\n",
       "      <th>2</th>\n",
       "      <td>1103</td>\n",
       "      <td>2019-01</td>\n",
       "      <td>2020-04</td>\n",
       "      <td>2020-05</td>\n",
       "    </tr>\n",
       "    <tr>\n",
       "      <th>3</th>\n",
       "      <td>1104</td>\n",
       "      <td>2019-01</td>\n",
       "      <td>2020-04</td>\n",
       "      <td>2020-06</td>\n",
       "    </tr>\n",
       "    <tr>\n",
       "      <th>5</th>\n",
       "      <td>1106</td>\n",
       "      <td>2019-01</td>\n",
       "      <td>2020-04</td>\n",
       "      <td>2020-06</td>\n",
       "    </tr>\n",
       "    <tr>\n",
       "      <th>10</th>\n",
       "      <td>1117</td>\n",
       "      <td>2019-01</td>\n",
       "      <td>2020-04</td>\n",
       "      <td>2020-06</td>\n",
       "    </tr>\n",
       "  </tbody>\n",
       "</table>\n",
       "</div>"
      ],
      "text/plain": [
       "    Firma_kod ilk_giris son_giris yenileme_donemi\n",
       "1        1102   2019-01   2020-04         2020-07\n",
       "2        1103   2019-01   2020-04         2020-05\n",
       "3        1104   2019-01   2020-04         2020-06\n",
       "5        1106   2019-01   2020-04         2020-06\n",
       "10       1117   2019-01   2020-04         2020-06"
      ]
     },
     "execution_count": 72,
     "metadata": {},
     "output_type": "execute_result"
    }
   ],
   "source": [
    "# Firmaların Son giriş Döenmleri ve Sözleşme Yenileme Dönemleri\n",
    "df_firma=df_all.groupby([\"Firma_kod\"]).agg({\"donem\":[\"min\",\"max\"],\"yenileme_donem\":\"max\"}).reset_index()\n",
    "df_firma.columns=[\"Firma_kod\",\"ilk_giris\",\"son_giris\",\"yenileme_donemi\"]\n",
    "df_firma.dropna(inplace=True)\n",
    "df_firma.head()"
   ]
  },
  {
   "cell_type": "code",
   "execution_count": 73,
   "metadata": {},
   "outputs": [],
   "source": [
    "# Yenileme Dönemi ile son ve ilk giriş arasındaki farklar\n",
    "df_firma[\"yenileme_donem-ilk_giris\"]=(df_firma[\"yenileme_donemi\"]-df_firma[\"ilk_giris\"]).apply(attrgetter('n'))\n",
    "df_firma[\"yenileme_donem-son_giris\"]=(df_firma[\"yenileme_donemi\"]-df_firma[\"son_giris\"]).apply(attrgetter('n'))"
   ]
  },
  {
   "cell_type": "code",
   "execution_count": 74,
   "metadata": {},
   "outputs": [
    {
     "data": {
      "text/html": [
       "<div>\n",
       "<style scoped>\n",
       "    .dataframe tbody tr th:only-of-type {\n",
       "        vertical-align: middle;\n",
       "    }\n",
       "\n",
       "    .dataframe tbody tr th {\n",
       "        vertical-align: top;\n",
       "    }\n",
       "\n",
       "    .dataframe thead th {\n",
       "        text-align: right;\n",
       "    }\n",
       "</style>\n",
       "<table border=\"1\" class=\"dataframe\">\n",
       "  <thead>\n",
       "    <tr style=\"text-align: right;\">\n",
       "      <th></th>\n",
       "      <th>Firma_kod</th>\n",
       "      <th>ilk_giris</th>\n",
       "      <th>son_giris</th>\n",
       "      <th>yenileme_donemi</th>\n",
       "      <th>yenileme_donem-ilk_giris</th>\n",
       "      <th>yenileme_donem-son_giris</th>\n",
       "    </tr>\n",
       "  </thead>\n",
       "  <tbody>\n",
       "    <tr>\n",
       "      <th>1</th>\n",
       "      <td>1102</td>\n",
       "      <td>2019-01</td>\n",
       "      <td>2020-04</td>\n",
       "      <td>2020-07</td>\n",
       "      <td>18</td>\n",
       "      <td>3</td>\n",
       "    </tr>\n",
       "    <tr>\n",
       "      <th>2</th>\n",
       "      <td>1103</td>\n",
       "      <td>2019-01</td>\n",
       "      <td>2020-04</td>\n",
       "      <td>2020-05</td>\n",
       "      <td>16</td>\n",
       "      <td>1</td>\n",
       "    </tr>\n",
       "    <tr>\n",
       "      <th>3</th>\n",
       "      <td>1104</td>\n",
       "      <td>2019-01</td>\n",
       "      <td>2020-04</td>\n",
       "      <td>2020-06</td>\n",
       "      <td>17</td>\n",
       "      <td>2</td>\n",
       "    </tr>\n",
       "    <tr>\n",
       "      <th>5</th>\n",
       "      <td>1106</td>\n",
       "      <td>2019-01</td>\n",
       "      <td>2020-04</td>\n",
       "      <td>2020-06</td>\n",
       "      <td>17</td>\n",
       "      <td>2</td>\n",
       "    </tr>\n",
       "    <tr>\n",
       "      <th>10</th>\n",
       "      <td>1117</td>\n",
       "      <td>2019-01</td>\n",
       "      <td>2020-04</td>\n",
       "      <td>2020-06</td>\n",
       "      <td>17</td>\n",
       "      <td>2</td>\n",
       "    </tr>\n",
       "  </tbody>\n",
       "</table>\n",
       "</div>"
      ],
      "text/plain": [
       "    Firma_kod ilk_giris son_giris yenileme_donemi  yenileme_donem-ilk_giris  \\\n",
       "1        1102   2019-01   2020-04         2020-07                        18   \n",
       "2        1103   2019-01   2020-04         2020-05                        16   \n",
       "3        1104   2019-01   2020-04         2020-06                        17   \n",
       "5        1106   2019-01   2020-04         2020-06                        17   \n",
       "10       1117   2019-01   2020-04         2020-06                        17   \n",
       "\n",
       "    yenileme_donem-son_giris  \n",
       "1                          3  \n",
       "2                          1  \n",
       "3                          2  \n",
       "5                          2  \n",
       "10                         2  "
      ]
     },
     "execution_count": 74,
     "metadata": {},
     "output_type": "execute_result"
    }
   ],
   "source": [
    "df_firma.head()"
   ]
  },
  {
   "cell_type": "markdown",
   "metadata": {},
   "source": [
    "### 6 aydan kısa dönemde  sözleşme yenileyen firmalar"
   ]
  },
  {
   "cell_type": "code",
   "execution_count": 75,
   "metadata": {},
   "outputs": [
    {
     "data": {
      "text/html": [
       "<div>\n",
       "<style scoped>\n",
       "    .dataframe tbody tr th:only-of-type {\n",
       "        vertical-align: middle;\n",
       "    }\n",
       "\n",
       "    .dataframe tbody tr th {\n",
       "        vertical-align: top;\n",
       "    }\n",
       "\n",
       "    .dataframe thead th {\n",
       "        text-align: right;\n",
       "    }\n",
       "</style>\n",
       "<table border=\"1\" class=\"dataframe\">\n",
       "  <thead>\n",
       "    <tr style=\"text-align: right;\">\n",
       "      <th></th>\n",
       "      <th>Firma_kod</th>\n",
       "      <th>ilk_giris</th>\n",
       "      <th>son_giris</th>\n",
       "      <th>yenileme_donemi</th>\n",
       "      <th>yenileme_donem-ilk_giris</th>\n",
       "      <th>yenileme_donem-son_giris</th>\n",
       "    </tr>\n",
       "  </thead>\n",
       "  <tbody>\n",
       "    <tr>\n",
       "      <th>258</th>\n",
       "      <td>1709</td>\n",
       "      <td>2020-04</td>\n",
       "      <td>2020-04</td>\n",
       "      <td>2020-05</td>\n",
       "      <td>1</td>\n",
       "      <td>1</td>\n",
       "    </tr>\n",
       "    <tr>\n",
       "      <th>444</th>\n",
       "      <td>2238</td>\n",
       "      <td>2019-11</td>\n",
       "      <td>2020-02</td>\n",
       "      <td>2020-05</td>\n",
       "      <td>6</td>\n",
       "      <td>3</td>\n",
       "    </tr>\n",
       "    <tr>\n",
       "      <th>807</th>\n",
       "      <td>3128</td>\n",
       "      <td>2019-11</td>\n",
       "      <td>2020-04</td>\n",
       "      <td>2020-05</td>\n",
       "      <td>6</td>\n",
       "      <td>1</td>\n",
       "    </tr>\n",
       "    <tr>\n",
       "      <th>1041</th>\n",
       "      <td>3740</td>\n",
       "      <td>2020-02</td>\n",
       "      <td>2020-02</td>\n",
       "      <td>2020-07</td>\n",
       "      <td>5</td>\n",
       "      <td>5</td>\n",
       "    </tr>\n",
       "    <tr>\n",
       "      <th>1634</th>\n",
       "      <td>5227</td>\n",
       "      <td>2019-12</td>\n",
       "      <td>2020-03</td>\n",
       "      <td>2020-06</td>\n",
       "      <td>6</td>\n",
       "      <td>3</td>\n",
       "    </tr>\n",
       "    <tr>\n",
       "      <th>...</th>\n",
       "      <td>...</td>\n",
       "      <td>...</td>\n",
       "      <td>...</td>\n",
       "      <td>...</td>\n",
       "      <td>...</td>\n",
       "      <td>...</td>\n",
       "    </tr>\n",
       "    <tr>\n",
       "      <th>62653</th>\n",
       "      <td>221966</td>\n",
       "      <td>2020-04</td>\n",
       "      <td>2020-04</td>\n",
       "      <td>2020-05</td>\n",
       "      <td>1</td>\n",
       "      <td>1</td>\n",
       "    </tr>\n",
       "    <tr>\n",
       "      <th>62654</th>\n",
       "      <td>221968</td>\n",
       "      <td>2020-04</td>\n",
       "      <td>2020-04</td>\n",
       "      <td>2020-05</td>\n",
       "      <td>1</td>\n",
       "      <td>1</td>\n",
       "    </tr>\n",
       "    <tr>\n",
       "      <th>62655</th>\n",
       "      <td>221970</td>\n",
       "      <td>2020-04</td>\n",
       "      <td>2020-04</td>\n",
       "      <td>2020-05</td>\n",
       "      <td>1</td>\n",
       "      <td>1</td>\n",
       "    </tr>\n",
       "    <tr>\n",
       "      <th>62656</th>\n",
       "      <td>221971</td>\n",
       "      <td>2020-04</td>\n",
       "      <td>2020-04</td>\n",
       "      <td>2020-05</td>\n",
       "      <td>1</td>\n",
       "      <td>1</td>\n",
       "    </tr>\n",
       "    <tr>\n",
       "      <th>62658</th>\n",
       "      <td>221973</td>\n",
       "      <td>2020-04</td>\n",
       "      <td>2020-04</td>\n",
       "      <td>2020-05</td>\n",
       "      <td>1</td>\n",
       "      <td>1</td>\n",
       "    </tr>\n",
       "  </tbody>\n",
       "</table>\n",
       "<p>266 rows × 6 columns</p>\n",
       "</div>"
      ],
      "text/plain": [
       "       Firma_kod ilk_giris son_giris yenileme_donemi  \\\n",
       "258         1709   2020-04   2020-04         2020-05   \n",
       "444         2238   2019-11   2020-02         2020-05   \n",
       "807         3128   2019-11   2020-04         2020-05   \n",
       "1041        3740   2020-02   2020-02         2020-07   \n",
       "1634        5227   2019-12   2020-03         2020-06   \n",
       "...          ...       ...       ...             ...   \n",
       "62653     221966   2020-04   2020-04         2020-05   \n",
       "62654     221968   2020-04   2020-04         2020-05   \n",
       "62655     221970   2020-04   2020-04         2020-05   \n",
       "62656     221971   2020-04   2020-04         2020-05   \n",
       "62658     221973   2020-04   2020-04         2020-05   \n",
       "\n",
       "       yenileme_donem-ilk_giris  yenileme_donem-son_giris  \n",
       "258                           1                         1  \n",
       "444                           6                         3  \n",
       "807                           6                         1  \n",
       "1041                          5                         5  \n",
       "1634                          6                         3  \n",
       "...                         ...                       ...  \n",
       "62653                         1                         1  \n",
       "62654                         1                         1  \n",
       "62655                         1                         1  \n",
       "62656                         1                         1  \n",
       "62658                         1                         1  \n",
       "\n",
       "[266 rows x 6 columns]"
      ]
     },
     "execution_count": 75,
     "metadata": {},
     "output_type": "execute_result"
    }
   ],
   "source": [
    "df_firma[df_firma[\"yenileme_donem-ilk_giris\"]<=6]"
   ]
  },
  {
   "cell_type": "markdown",
   "metadata": {},
   "source": [
    "### 6 ile 12 Ay arasında sözleşme yenileyen firmalar"
   ]
  },
  {
   "cell_type": "code",
   "execution_count": 76,
   "metadata": {},
   "outputs": [
    {
     "data": {
      "text/html": [
       "<div>\n",
       "<style scoped>\n",
       "    .dataframe tbody tr th:only-of-type {\n",
       "        vertical-align: middle;\n",
       "    }\n",
       "\n",
       "    .dataframe tbody tr th {\n",
       "        vertical-align: top;\n",
       "    }\n",
       "\n",
       "    .dataframe thead th {\n",
       "        text-align: right;\n",
       "    }\n",
       "</style>\n",
       "<table border=\"1\" class=\"dataframe\">\n",
       "  <thead>\n",
       "    <tr style=\"text-align: right;\">\n",
       "      <th></th>\n",
       "      <th>Firma_kod</th>\n",
       "      <th>ilk_giris</th>\n",
       "      <th>son_giris</th>\n",
       "      <th>yenileme_donemi</th>\n",
       "      <th>yenileme_donem-ilk_giris</th>\n",
       "      <th>yenileme_donem-son_giris</th>\n",
       "    </tr>\n",
       "  </thead>\n",
       "  <tbody>\n",
       "    <tr>\n",
       "      <th>274</th>\n",
       "      <td>1745</td>\n",
       "      <td>2019-07</td>\n",
       "      <td>2020-04</td>\n",
       "      <td>2020-05</td>\n",
       "      <td>10</td>\n",
       "      <td>1</td>\n",
       "    </tr>\n",
       "    <tr>\n",
       "      <th>324</th>\n",
       "      <td>1987</td>\n",
       "      <td>2019-07</td>\n",
       "      <td>2020-03</td>\n",
       "      <td>2020-07</td>\n",
       "      <td>12</td>\n",
       "      <td>4</td>\n",
       "    </tr>\n",
       "    <tr>\n",
       "      <th>429</th>\n",
       "      <td>2205</td>\n",
       "      <td>2019-05</td>\n",
       "      <td>2020-04</td>\n",
       "      <td>2020-05</td>\n",
       "      <td>12</td>\n",
       "      <td>1</td>\n",
       "    </tr>\n",
       "    <tr>\n",
       "      <th>1061</th>\n",
       "      <td>3794</td>\n",
       "      <td>2019-07</td>\n",
       "      <td>2020-03</td>\n",
       "      <td>2020-07</td>\n",
       "      <td>12</td>\n",
       "      <td>4</td>\n",
       "    </tr>\n",
       "    <tr>\n",
       "      <th>1113</th>\n",
       "      <td>3929</td>\n",
       "      <td>2019-06</td>\n",
       "      <td>2020-03</td>\n",
       "      <td>2020-06</td>\n",
       "      <td>12</td>\n",
       "      <td>3</td>\n",
       "    </tr>\n",
       "    <tr>\n",
       "      <th>...</th>\n",
       "      <td>...</td>\n",
       "      <td>...</td>\n",
       "      <td>...</td>\n",
       "      <td>...</td>\n",
       "      <td>...</td>\n",
       "      <td>...</td>\n",
       "    </tr>\n",
       "    <tr>\n",
       "      <th>54131</th>\n",
       "      <td>212722</td>\n",
       "      <td>2019-10</td>\n",
       "      <td>2020-03</td>\n",
       "      <td>2020-06</td>\n",
       "      <td>8</td>\n",
       "      <td>3</td>\n",
       "    </tr>\n",
       "    <tr>\n",
       "      <th>54321</th>\n",
       "      <td>212941</td>\n",
       "      <td>2019-10</td>\n",
       "      <td>2020-03</td>\n",
       "      <td>2020-05</td>\n",
       "      <td>7</td>\n",
       "      <td>2</td>\n",
       "    </tr>\n",
       "    <tr>\n",
       "      <th>54342</th>\n",
       "      <td>212962</td>\n",
       "      <td>2019-10</td>\n",
       "      <td>2020-04</td>\n",
       "      <td>2020-05</td>\n",
       "      <td>7</td>\n",
       "      <td>1</td>\n",
       "    </tr>\n",
       "    <tr>\n",
       "      <th>54364</th>\n",
       "      <td>212988</td>\n",
       "      <td>2019-10</td>\n",
       "      <td>2020-01</td>\n",
       "      <td>2020-05</td>\n",
       "      <td>7</td>\n",
       "      <td>4</td>\n",
       "    </tr>\n",
       "    <tr>\n",
       "      <th>55737</th>\n",
       "      <td>214459</td>\n",
       "      <td>2019-11</td>\n",
       "      <td>2019-12</td>\n",
       "      <td>2020-06</td>\n",
       "      <td>7</td>\n",
       "      <td>6</td>\n",
       "    </tr>\n",
       "  </tbody>\n",
       "</table>\n",
       "<p>896 rows × 6 columns</p>\n",
       "</div>"
      ],
      "text/plain": [
       "       Firma_kod ilk_giris son_giris yenileme_donemi  \\\n",
       "274         1745   2019-07   2020-04         2020-05   \n",
       "324         1987   2019-07   2020-03         2020-07   \n",
       "429         2205   2019-05   2020-04         2020-05   \n",
       "1061        3794   2019-07   2020-03         2020-07   \n",
       "1113        3929   2019-06   2020-03         2020-06   \n",
       "...          ...       ...       ...             ...   \n",
       "54131     212722   2019-10   2020-03         2020-06   \n",
       "54321     212941   2019-10   2020-03         2020-05   \n",
       "54342     212962   2019-10   2020-04         2020-05   \n",
       "54364     212988   2019-10   2020-01         2020-05   \n",
       "55737     214459   2019-11   2019-12         2020-06   \n",
       "\n",
       "       yenileme_donem-ilk_giris  yenileme_donem-son_giris  \n",
       "274                          10                         1  \n",
       "324                          12                         4  \n",
       "429                          12                         1  \n",
       "1061                         12                         4  \n",
       "1113                         12                         3  \n",
       "...                         ...                       ...  \n",
       "54131                         8                         3  \n",
       "54321                         7                         2  \n",
       "54342                         7                         1  \n",
       "54364                         7                         4  \n",
       "55737                         7                         6  \n",
       "\n",
       "[896 rows x 6 columns]"
      ]
     },
     "execution_count": 76,
     "metadata": {},
     "output_type": "execute_result"
    }
   ],
   "source": [
    "df_firma[(df_firma[\"yenileme_donem-ilk_giris\"]>6) & (df_firma[\"yenileme_donem-ilk_giris\"]<=12)]"
   ]
  },
  {
   "cell_type": "markdown",
   "metadata": {},
   "source": [
    "### 12 Aydan uzun sürede sözleşme yenileyen firmalar"
   ]
  },
  {
   "cell_type": "code",
   "execution_count": 77,
   "metadata": {},
   "outputs": [
    {
     "data": {
      "text/html": [
       "<div>\n",
       "<style scoped>\n",
       "    .dataframe tbody tr th:only-of-type {\n",
       "        vertical-align: middle;\n",
       "    }\n",
       "\n",
       "    .dataframe tbody tr th {\n",
       "        vertical-align: top;\n",
       "    }\n",
       "\n",
       "    .dataframe thead th {\n",
       "        text-align: right;\n",
       "    }\n",
       "</style>\n",
       "<table border=\"1\" class=\"dataframe\">\n",
       "  <thead>\n",
       "    <tr style=\"text-align: right;\">\n",
       "      <th></th>\n",
       "      <th>Firma_kod</th>\n",
       "      <th>ilk_giris</th>\n",
       "      <th>son_giris</th>\n",
       "      <th>yenileme_donemi</th>\n",
       "      <th>yenileme_donem-ilk_giris</th>\n",
       "      <th>yenileme_donem-son_giris</th>\n",
       "    </tr>\n",
       "  </thead>\n",
       "  <tbody>\n",
       "    <tr>\n",
       "      <th>1</th>\n",
       "      <td>1102</td>\n",
       "      <td>2019-01</td>\n",
       "      <td>2020-04</td>\n",
       "      <td>2020-07</td>\n",
       "      <td>18</td>\n",
       "      <td>3</td>\n",
       "    </tr>\n",
       "    <tr>\n",
       "      <th>2</th>\n",
       "      <td>1103</td>\n",
       "      <td>2019-01</td>\n",
       "      <td>2020-04</td>\n",
       "      <td>2020-05</td>\n",
       "      <td>16</td>\n",
       "      <td>1</td>\n",
       "    </tr>\n",
       "    <tr>\n",
       "      <th>3</th>\n",
       "      <td>1104</td>\n",
       "      <td>2019-01</td>\n",
       "      <td>2020-04</td>\n",
       "      <td>2020-06</td>\n",
       "      <td>17</td>\n",
       "      <td>2</td>\n",
       "    </tr>\n",
       "    <tr>\n",
       "      <th>5</th>\n",
       "      <td>1106</td>\n",
       "      <td>2019-01</td>\n",
       "      <td>2020-04</td>\n",
       "      <td>2020-06</td>\n",
       "      <td>17</td>\n",
       "      <td>2</td>\n",
       "    </tr>\n",
       "    <tr>\n",
       "      <th>10</th>\n",
       "      <td>1117</td>\n",
       "      <td>2019-01</td>\n",
       "      <td>2020-04</td>\n",
       "      <td>2020-06</td>\n",
       "      <td>17</td>\n",
       "      <td>2</td>\n",
       "    </tr>\n",
       "    <tr>\n",
       "      <th>...</th>\n",
       "      <td>...</td>\n",
       "      <td>...</td>\n",
       "      <td>...</td>\n",
       "      <td>...</td>\n",
       "      <td>...</td>\n",
       "      <td>...</td>\n",
       "    </tr>\n",
       "    <tr>\n",
       "      <th>48338</th>\n",
       "      <td>206497</td>\n",
       "      <td>2019-06</td>\n",
       "      <td>2020-02</td>\n",
       "      <td>2020-07</td>\n",
       "      <td>13</td>\n",
       "      <td>5</td>\n",
       "    </tr>\n",
       "    <tr>\n",
       "      <th>48346</th>\n",
       "      <td>206506</td>\n",
       "      <td>2019-06</td>\n",
       "      <td>2019-12</td>\n",
       "      <td>2020-07</td>\n",
       "      <td>13</td>\n",
       "      <td>7</td>\n",
       "    </tr>\n",
       "    <tr>\n",
       "      <th>48467</th>\n",
       "      <td>206633</td>\n",
       "      <td>2019-06</td>\n",
       "      <td>2020-03</td>\n",
       "      <td>2020-07</td>\n",
       "      <td>13</td>\n",
       "      <td>4</td>\n",
       "    </tr>\n",
       "    <tr>\n",
       "      <th>48491</th>\n",
       "      <td>206658</td>\n",
       "      <td>2019-06</td>\n",
       "      <td>2020-02</td>\n",
       "      <td>2020-07</td>\n",
       "      <td>13</td>\n",
       "      <td>5</td>\n",
       "    </tr>\n",
       "    <tr>\n",
       "      <th>48723</th>\n",
       "      <td>206935</td>\n",
       "      <td>2019-06</td>\n",
       "      <td>2020-04</td>\n",
       "      <td>2020-07</td>\n",
       "      <td>13</td>\n",
       "      <td>3</td>\n",
       "    </tr>\n",
       "  </tbody>\n",
       "</table>\n",
       "<p>3195 rows × 6 columns</p>\n",
       "</div>"
      ],
      "text/plain": [
       "       Firma_kod ilk_giris son_giris yenileme_donemi  \\\n",
       "1           1102   2019-01   2020-04         2020-07   \n",
       "2           1103   2019-01   2020-04         2020-05   \n",
       "3           1104   2019-01   2020-04         2020-06   \n",
       "5           1106   2019-01   2020-04         2020-06   \n",
       "10          1117   2019-01   2020-04         2020-06   \n",
       "...          ...       ...       ...             ...   \n",
       "48338     206497   2019-06   2020-02         2020-07   \n",
       "48346     206506   2019-06   2019-12         2020-07   \n",
       "48467     206633   2019-06   2020-03         2020-07   \n",
       "48491     206658   2019-06   2020-02         2020-07   \n",
       "48723     206935   2019-06   2020-04         2020-07   \n",
       "\n",
       "       yenileme_donem-ilk_giris  yenileme_donem-son_giris  \n",
       "1                            18                         3  \n",
       "2                            16                         1  \n",
       "3                            17                         2  \n",
       "5                            17                         2  \n",
       "10                           17                         2  \n",
       "...                         ...                       ...  \n",
       "48338                        13                         5  \n",
       "48346                        13                         7  \n",
       "48467                        13                         4  \n",
       "48491                        13                         5  \n",
       "48723                        13                         3  \n",
       "\n",
       "[3195 rows x 6 columns]"
      ]
     },
     "execution_count": 77,
     "metadata": {},
     "output_type": "execute_result"
    }
   ],
   "source": [
    "df_firma[(df_firma[\"yenileme_donem-ilk_giris\"]>12)]"
   ]
  },
  {
   "cell_type": "code",
   "execution_count": null,
   "metadata": {},
   "outputs": [],
   "source": []
  }
 ],
 "metadata": {
  "kernelspec": {
   "display_name": "Python 3",
   "language": "python",
   "name": "python3"
  },
  "language_info": {
   "codemirror_mode": {
    "name": "ipython",
    "version": 3
   },
   "file_extension": ".py",
   "mimetype": "text/x-python",
   "name": "python",
   "nbconvert_exporter": "python",
   "pygments_lexer": "ipython3",
   "version": "3.8.5"
  }
 },
 "nbformat": 4,
 "nbformat_minor": 4
}
